{
 "cells": [
  {
   "cell_type": "code",
   "execution_count": 1,
   "metadata": {},
   "outputs": [],
   "source": [
    "import datetime\n",
    "import pandas as pd\n",
    "import numpy as np"
   ]
  },
  {
   "cell_type": "code",
   "execution_count": 2,
   "metadata": {},
   "outputs": [
    {
     "name": "stdout",
     "output_type": "stream",
     "text": [
      "(62179, 19)\n",
      "(232725, 19)\n"
     ]
    }
   ],
   "source": [
    "df = pd.read_csv('data.csv')\n",
    "\n",
    "df_kaggle = pd.read_csv('data_kaggle.csv')\n",
    "df_kaggle.rename(columns={'artist_name':'artist', 'track_name':'name', 'track_id':'id'}, inplace=True)\n",
    "df_kaggle.drop_duplicates(inplace=True)\n",
    "\n",
    "print(df.shape)\n",
    "print(df_kaggle.shape)"
   ]
  },
  {
   "cell_type": "code",
   "execution_count": 3,
   "metadata": {},
   "outputs": [
    {
     "name": "stdout",
     "output_type": "stream",
     "text": [
      "19480\n",
      "(275424, 19)\n"
     ]
    }
   ],
   "source": [
    "df_ids = df['id'].values.tolist()\n",
    "df_kaggle_ids = df_kaggle['id'].values.tolist()\n",
    "ids_to_drop = set(df_ids).intersection(set(df_kaggle_ids))\n",
    "\n",
    "df.drop(df[df.id.isin(ids_to_drop)].index, inplace=True)\n",
    "\n",
    "df = df.append(df_kaggle)\n",
    "df.reset_index(drop=True, inplace=True)\n",
    "\n",
    "print(len(ids_to_drop))\n",
    "print(df.shape)"
   ]
  },
  {
   "cell_type": "code",
   "execution_count": 4,
   "metadata": {},
   "outputs": [],
   "source": [
    "df['duration_min'] = df['duration_ms']/60000\n",
    "df['duration_min'] = df['duration_min'].round(2)"
   ]
  },
  {
   "cell_type": "code",
   "execution_count": 5,
   "metadata": {},
   "outputs": [],
   "source": [
    "def validate(row):\n",
    "    try:\n",
    "        datetime.datetime.strptime(row.release_date, '%Y-%m-%d')\n",
    "        return True\n",
    "    except ValueError:\n",
    "        return False\n",
    "\n",
    "df = df[df.apply(lambda x: validate(x), axis = 1)]\n",
    "df['year'] = pd.DatetimeIndex(df['release_date']).year"
   ]
  },
  {
   "cell_type": "code",
   "execution_count": 6,
   "metadata": {},
   "outputs": [
    {
     "data": {
      "text/plain": [
       "2010s     175243\n",
       "2000s      46246\n",
       "1990s      17157\n",
       "1980s       5067\n",
       "1970s       4651\n",
       "1960s       2211\n",
       "<1960s       637\n",
       "2020s          3\n",
       "Name: decade, dtype: int64"
      ]
     },
     "execution_count": 6,
     "metadata": {},
     "output_type": "execute_result"
    }
   ],
   "source": [
    "df['decade'] = None\n",
    "df.loc[df['year'] < 1960, 'decade'] = '<1960s'\n",
    "df.loc[(df['year'] >= 1960) & (df['year'] < 1970), 'decade'] = '1960s'\n",
    "df.loc[(df['year'] >= 1970) & (df['year'] < 1980), 'decade'] = '1970s'\n",
    "df.loc[(df['year'] >= 1980) & (df['year'] < 1990), 'decade'] = '1980s'\n",
    "df.loc[(df['year'] >= 1990) & (df['year'] < 2000), 'decade'] = '1990s'\n",
    "df.loc[(df['year'] >= 2000) & (df['year'] < 2010), 'decade'] = '2000s'\n",
    "df.loc[(df['year'] >= 2010) & (df['year'] < 2020), 'decade'] = '2010s'\n",
    "df.loc[(df['year'] >= 2020) & (df['year'] < 2030), 'decade'] = '2020s'\n",
    "df.decade.value_counts()"
   ]
  },
  {
   "cell_type": "code",
   "execution_count": 7,
   "metadata": {},
   "outputs": [],
   "source": [
    "df = df[df['year'] >= 1960]\n",
    "df = df[df['year'] < 2020]\n",
    "df = df.drop(labels=['duration_ms', 'release_date', 'decade', 'time_signature'], axis=1)"
   ]
  },
  {
   "cell_type": "code",
   "execution_count": 8,
   "metadata": {},
   "outputs": [],
   "source": [
    "df['key'].replace(to_replace=['A', 'A#', 'B', 'C', 'C#', 'D', 'D#', 'E', 'F', 'F#', 'G', 'G#'], value=[i for i in range(12)], inplace=True)\n",
    "df['mode'].replace(to_replace=['Minor', 'Major'], value=[0, 1], inplace=True)"
   ]
  },
  {
   "cell_type": "code",
   "execution_count": 9,
   "metadata": {},
   "outputs": [
    {
     "data": {
      "text/plain": [
       "250575"
      ]
     },
     "execution_count": 9,
     "metadata": {},
     "output_type": "execute_result"
    }
   ],
   "source": [
    "len(df)"
   ]
  },
  {
   "cell_type": "code",
   "execution_count": 10,
   "metadata": {},
   "outputs": [],
   "source": [
    "df.to_csv('clean_data.csv', sep=',', index=False)"
   ]
  }
 ],
 "metadata": {
  "interpreter": {
   "hash": "c695f1185af0b0cb45267059541db62e78e0f8b6aee207023a10bf91fdfcb1bd"
  },
  "kernelspec": {
   "display_name": "Python 3.9.7 64-bit",
   "language": "python",
   "name": "python3"
  },
  "language_info": {
   "codemirror_mode": {
    "name": "ipython",
    "version": 3
   },
   "file_extension": ".py",
   "mimetype": "text/x-python",
   "name": "python",
   "nbconvert_exporter": "python",
   "pygments_lexer": "ipython3",
   "version": "3.9.7"
  },
  "orig_nbformat": 4
 },
 "nbformat": 4,
 "nbformat_minor": 2
}
